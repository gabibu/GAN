{
  "nbformat": 4,
  "nbformat_minor": 0,
  "metadata": {
    "colab": {
      "name": "cifar_dcgan_blank.ipynb",
      "version": "0.3.2",
      "provenance": []
    },
    "language_info": {
      "codemirror_mode": {
        "name": "ipython",
        "version": 3
      },
      "file_extension": ".py",
      "mimetype": "text/x-python",
      "name": "python",
      "nbconvert_exporter": "python",
      "pygments_lexer": "ipython3",
      "version": "3.6.5"
    },
    "kernelspec": {
      "name": "python3",
      "display_name": "Python 3"
    },
    "accelerator": "GPU"
  },
  "cells": [
    {
      "cell_type": "markdown",
      "metadata": {
        "id": "S-iHk6_wOR0r",
        "colab_type": "text"
      },
      "source": [
        "# DCGAN on CIFAR-10\n",
        "\n",
        "In this assignment, you are to train a DCGAN on CIFAR-10. Below you may find the data loader and the generator and discriminator networks. The assignment consists of the following tasks:\n",
        "\n",
        "**1)**  Compare the two ways to update generator discussed in the original [paper](https://arxiv.org/abs/1406.2661) (page 3, above the figure). The first is two minimise $\\mathbb E_z \\log (1 - D(G(z))$ and the second is to maximise $\\mathbb E_z \\log D(G(z))$.\n",
        "\n",
        "To do this fix a small number of training epochs (around 5) and plot the values of generator and discriminator losses for both cases. How do the two graphs compare? As a sanity check, plot the fake samples at the end of each epoch.\n",
        "\n",
        "**2)** Train a GAN with the second generator update and a more significant number of training epochs. To track the training progress plot fake samples at the end of each epoch. How do the resulting samples compare with the real data samples visually?\n",
        "\n",
        "**3)** To estimate the generalization properties of the generator qualitatively, plot interpolations between randomly generated samples. To do this, pick two random noise vectors, connect them with a line and decode the points on the line using the generator."
      ]
    },
    {
      "cell_type": "code",
      "metadata": {
        "id": "2Gam4AtwOR0t",
        "colab_type": "code",
        "outputId": "ffc29e3b-d803-4f52-a66a-629ac4c37a23",
        "colab": {
          "base_uri": "https://localhost:8080/",
          "height": 34
        }
      },
      "source": [
        "import os\n",
        "import random\n",
        "import torch\n",
        "import torch.nn as nn\n",
        "import torch.optim as optim\n",
        "import torchvision\n",
        "import matplotlib.pyplot as plt\n",
        "import torchvision.utils as vutils\n",
        "import numpy as np\n",
        "from torchvision import transforms\n",
        "import matplotlib.animation as animation\n",
        "from IPython.display import HTML\n",
        "\n",
        "manualSeed = 999\n",
        "random.seed(manualSeed)\n",
        "torch.manual_seed(manualSeed)\n",
        "\n"
      ],
      "execution_count": 2,
      "outputs": [
        {
          "output_type": "execute_result",
          "data": {
            "text/plain": [
              "<torch._C.Generator at 0x7fa08ca91390>"
            ]
          },
          "metadata": {
            "tags": []
          },
          "execution_count": 2
        }
      ]
    },
    {
      "cell_type": "code",
      "metadata": {
        "id": "M1TpTZfBOR0z",
        "colab_type": "code",
        "outputId": "68519974-b6e6-4238-9971-1fab0c4f5f36",
        "colab": {
          "base_uri": "https://localhost:8080/",
          "height": 52
        }
      },
      "source": [
        "data_folder = './data'\n",
        "batch_size = 64\n",
        "image_size = 64\n",
        "device = torch.device('cuda') if torch.cuda.is_available() else torch.device('cpu')\n",
        "\n",
        "n_channels = 3\n",
        "n_feature_maps = 64\n",
        "z_dim = 128\n",
        "\n",
        "# for the data to be compatible with the DCGAN architecture we will resize it to 64*64\n",
        "dataset = torchvision.datasets.CIFAR10(\n",
        "    root=data_folder,\n",
        "    download=True,\n",
        "    transform=transforms.Compose([\n",
        "        transforms.Resize(image_size),\n",
        "        transforms.ToTensor(),\n",
        "        transforms.Normalize((0.5, 0.5, 0.5), (0.5, 0.5, 0.5)),\n",
        "    ]))\n",
        "\n",
        "dataloader = torch.utils.data.DataLoader(dataset, batch_size=batch_size,\n",
        "                                         shuffle=True, num_workers=1)"
      ],
      "execution_count": 3,
      "outputs": [
        {
          "output_type": "stream",
          "text": [
            "  0%|          | 0/170498071 [00:00<?, ?it/s]"
          ],
          "name": "stderr"
        },
        {
          "output_type": "stream",
          "text": [
            "Downloading https://www.cs.toronto.edu/~kriz/cifar-10-python.tar.gz to ./data/cifar-10-python.tar.gz\n"
          ],
          "name": "stdout"
        },
        {
          "output_type": "stream",
          "text": [
            "100%|█████████▉| 170336256/170498071 [00:17<00:00, 7814128.43it/s]"
          ],
          "name": "stderr"
        }
      ]
    },
    {
      "cell_type": "code",
      "metadata": {
        "id": "e577jST7OR04",
        "colab_type": "code",
        "colab": {}
      },
      "source": [
        "def get_dcgan_generator(z_dim, n_feature_maps=64, n_channels=3):\n",
        "    layers = [\n",
        "        nn.ConvTranspose2d(z_dim, n_feature_maps * 8, 4, 1, 0, bias=False),\n",
        "        nn.BatchNorm2d(n_feature_maps * 8),\n",
        "        nn.ReLU(),\n",
        "        # n_features * 8 x 4 x 4\n",
        "        nn.ConvTranspose2d(n_feature_maps * 8, n_feature_maps * 4, 4, 2, 1, bias=False),\n",
        "        nn.BatchNorm2d(n_feature_maps * 4),\n",
        "        nn.ReLU(),\n",
        "        # n_features * 4 x 8 x 8\n",
        "        nn.ConvTranspose2d(n_feature_maps * 4, n_feature_maps * 2, 4, 2, 1, bias=False),\n",
        "        nn.BatchNorm2d(n_feature_maps * 2),\n",
        "        nn.ReLU(),\n",
        "        # n_features * 2 x 16 x 16\n",
        "        nn.ConvTranspose2d(n_feature_maps * 2, n_feature_maps, 4, 2, 1, bias=False),\n",
        "        nn.BatchNorm2d(n_feature_maps),\n",
        "        nn.ReLU(),\n",
        "        # n_features x 32 x 32\n",
        "        nn.ConvTranspose2d(n_feature_maps, n_channels, 4, 2, 1, bias=False),\n",
        "        nn.Tanh()]\n",
        "        # n_channels x 64 x 64\n",
        "    return nn.Sequential(*layers)\n",
        "    \n",
        "def get_dcgan_discriminator(n_feature_maps=64, n_channels=3):\n",
        "    layers = [\n",
        "        nn.Conv2d(n_channels, n_feature_maps, 4, 2, 1, bias=False),\n",
        "        nn.LeakyReLU(0.2),\n",
        "        # n_feature_maps x 32 x 32\n",
        "        nn.Conv2d(n_feature_maps, n_feature_maps * 2, 4, 2, 1, bias=False),\n",
        "        nn.BatchNorm2d(n_feature_maps * 2),\n",
        "        nn.LeakyReLU(0.2),\n",
        "        # n_feature_maps * 2 x 16 x 16\n",
        "        nn.Conv2d(n_feature_maps * 2, n_feature_maps * 4, 4, 2, 1, bias=False),\n",
        "        nn.BatchNorm2d(n_feature_maps * 4),\n",
        "        nn.LeakyReLU(0.2),\n",
        "        # n_feature_maps * 4 x 8 x 8\n",
        "        nn.Conv2d(n_feature_maps * 4, n_feature_maps * 8, 4, 2, 1, bias=False),\n",
        "        nn.BatchNorm2d(n_feature_maps * 8),\n",
        "        nn.LeakyReLU(0.2, inplace=True),\n",
        "        # n_feature_maps * 8 x 4 x 4\n",
        "        nn.Conv2d(n_feature_maps * 8, 1, 4, 1, 0, bias=False),\n",
        "        nn.Sigmoid()]\n",
        "    return nn.Sequential(*layers)\n",
        "\n",
        "def weights_init(m):\n",
        "    classname = m.__class__.__name__\n",
        "    if classname.find('Conv') != -1:\n",
        "        m.weight.data.normal_(0.0, 0.02)\n",
        "    elif classname.find('BatchNorm') != -1:\n",
        "        m.weight.data.normal_(1.0, 0.02)\n",
        "        m.bias.data.fill_(0)"
      ],
      "execution_count": 0,
      "outputs": []
    },
    {
      "cell_type": "code",
      "metadata": {
        "id": "FK7DyVAEOR07",
        "colab_type": "code",
        "outputId": "adb75c7c-8668-4b6d-df37-e443da60e1be",
        "colab": {
          "base_uri": "https://localhost:8080/",
          "height": 283
        }
      },
      "source": [
        "generator = get_dcgan_generator(z_dim).to(device)\n",
        "generator.apply(weights_init)\n",
        "discriminator = get_dcgan_discriminator().to(device)\n",
        "discriminator.apply(weights_init)"
      ],
      "execution_count": 5,
      "outputs": [
        {
          "output_type": "execute_result",
          "data": {
            "text/plain": [
              "Sequential(\n",
              "  (0): Conv2d(3, 64, kernel_size=(4, 4), stride=(2, 2), padding=(1, 1), bias=False)\n",
              "  (1): LeakyReLU(negative_slope=0.2)\n",
              "  (2): Conv2d(64, 128, kernel_size=(4, 4), stride=(2, 2), padding=(1, 1), bias=False)\n",
              "  (3): BatchNorm2d(128, eps=1e-05, momentum=0.1, affine=True, track_running_stats=True)\n",
              "  (4): LeakyReLU(negative_slope=0.2)\n",
              "  (5): Conv2d(128, 256, kernel_size=(4, 4), stride=(2, 2), padding=(1, 1), bias=False)\n",
              "  (6): BatchNorm2d(256, eps=1e-05, momentum=0.1, affine=True, track_running_stats=True)\n",
              "  (7): LeakyReLU(negative_slope=0.2)\n",
              "  (8): Conv2d(256, 512, kernel_size=(4, 4), stride=(2, 2), padding=(1, 1), bias=False)\n",
              "  (9): BatchNorm2d(512, eps=1e-05, momentum=0.1, affine=True, track_running_stats=True)\n",
              "  (10): LeakyReLU(negative_slope=0.2, inplace)\n",
              "  (11): Conv2d(512, 1, kernel_size=(4, 4), stride=(1, 1), bias=False)\n",
              "  (12): Sigmoid()\n",
              ")"
            ]
          },
          "metadata": {
            "tags": []
          },
          "execution_count": 5
        }
      ]
    },
    {
      "cell_type": "code",
      "metadata": {
        "id": "7aGKGOo9OR0-",
        "colab_type": "code",
        "colab": {}
      },
      "source": [
        "d_optimizer = optim.Adam(discriminator.parameters(), lr=0.0002,\n",
        "                         betas=(0.5, 0.999))\n",
        "g_optimizer = optim.Adam(generator.parameters(),\n",
        "                         lr=0.0002, betas=(0.5, 0.999))"
      ],
      "execution_count": 0,
      "outputs": []
    },
    {
      "cell_type": "code",
      "metadata": {
        "id": "VHukPUa854MN",
        "colab_type": "code",
        "colab": {}
      },
      "source": [
        "real_label = 1\n",
        "fake_label = 0"
      ],
      "execution_count": 0,
      "outputs": []
    },
    {
      "cell_type": "code",
      "metadata": {
        "id": "Y2SHqlEsOR1E",
        "colab_type": "code",
        "colab": {}
      },
      "source": [
        "n_epochs = 5\n",
        "for epoch in range(n_epochs):\n",
        "    for i, data in enumerate(dataloader, 0):\n",
        "        # update discriminator\n",
        "        discriminator.zero_grad()\n",
        "        real_data = data[0].to(device)\n",
        "        d_real_scores = discriminator(real_data)\n",
        "        \n",
        "        noise = torch.randn(batch_size, z_dim, 1, 1, device=device)\n",
        "        fake_samples = generator(noise)\n",
        "        d_fake_scores = discriminator(fake_samples)\n",
        "        # TODO\n",
        "        \n",
        "        # update generator\n",
        "        generator.zero_grad()\n",
        "        noise = torch.randn(batch_size, z_dim, 1, 1, device=device)\n",
        "        fake_samples = generator(noise)\n",
        "        d_fake_scores = discriminator(fake_samples)\n",
        "        # TODO"
      ],
      "execution_count": 0,
      "outputs": []
    },
    {
      "cell_type": "code",
      "metadata": {
        "id": "SiiszzSZ3QE7",
        "colab_type": "code",
        "colab": {}
      },
      "source": [
        "def train(generator_label, plt_generated = False, n_epochs=5):\n",
        "  lr = 0.0002\n",
        "  beta1 = 0.5\n",
        "  criterion = nn.BCELoss()\n",
        "  optimizerD = optim.Adam(generator.parameters(), lr=lr, betas=(beta1, 0.999))\n",
        "  optimizerG = optim.Adam(discriminator.parameters(), lr=lr, betas=(beta1, 0.999))\n",
        "  \n",
        "  G_losses = []\n",
        "  D_losses = []\n",
        "  \n",
        "  for epoch in range(n_epochs):\n",
        "      for i, data in enumerate(dataloader, 0):\n",
        "          # update discriminator\n",
        "          discriminator.zero_grad()\n",
        "          real_data = data[0].to(device)\n",
        "\n",
        "          #real\n",
        "          b_size = real_data.size(0)\n",
        "          label = torch.full((b_size,), real_label, device=device)\n",
        "          d_real_scores = discriminator(real_data)\n",
        "          errD_real = criterion(d_real_scores, label)\n",
        "          errD_real.backward()\n",
        "          #end real \n",
        "\n",
        "          #fake\n",
        "          noise = torch.randn(batch_size, z_dim, 1, 1, device=device)\n",
        "          label = torch.full((batch_size,), fake_label, device=device)\n",
        "          fake_samples = generator(noise)\n",
        "          d_fake_scores = discriminator(fake_samples.detach()).view(-1)\n",
        "          errD_fake = criterion(d_fake_scores, label)\n",
        "          errD_fake.backward()\n",
        "          errD = errD_real + errD_fake\n",
        "\n",
        "          #end fake\n",
        "          D_losses.append(errD.item())\n",
        "\n",
        "          optimizerD.step()\n",
        "\n",
        "\n",
        "\n",
        "\n",
        "\n",
        "          # TODO\n",
        "\n",
        "          # update generator\n",
        "          generator.zero_grad()\n",
        "          label = torch.full((batch_size,), generator_label, device=device)\n",
        "\n",
        "\n",
        "\n",
        "          noise = torch.randn(batch_size, z_dim, 1, 1, device=device)\n",
        "          fake_samples = generator(noise)\n",
        "          d_fake_scores = discriminator(fake_samples).view(-1)\n",
        "          errG = criterion(d_fake_scores, label)\n",
        "          errG.backward()\n",
        "          optimizerG.step()\n",
        "          G_losses.append(errG.item())\n",
        "\n",
        "          \n",
        "      if plt_generated:\n",
        "      \n",
        "        with torch.no_grad():\n",
        "          img_list= []\n",
        "          fake = generator(noise).detach().cpu()\n",
        "          img_list.append(vutils.make_grid(fake, padding=2, normalize=True))\n",
        "        \n",
        "          fig = plt.figure(figsize=(8,8))\n",
        "          plt.axis(\"off\")\n",
        "          ims = [[plt.imshow(np.transpose(i,(1,2,0)), animated=True)] for i in img_list]\n",
        "          ani = animation.ArtistAnimation(fig, ims, interval=1000, repeat_delay=1000, blit=True)\n",
        "\n",
        "          HTML(ani.to_jshtml())\n",
        "        \n",
        "          \n",
        "  return D_losses, G_losses\n",
        "\n",
        "          # TODO\n",
        "  \n",
        "  "
      ],
      "execution_count": 0,
      "outputs": []
    },
    {
      "cell_type": "code",
      "metadata": {
        "id": "PvQYxDAFCwf_",
        "colab_type": "code",
        "outputId": "488ab44c-0788-4710-fb74-246bad9d903d",
        "colab": {
          "base_uri": "https://localhost:8080/",
          "height": 107
        }
      },
      "source": [
        "d_losses_1, g_losses_1 = train(real_label)"
      ],
      "execution_count": 0,
      "outputs": [
        {
          "output_type": "stream",
          "text": [
            "/usr/local/lib/python3.6/dist-packages/torch/nn/modules/loss.py:512: UserWarning: Using a target size (torch.Size([64])) that is different to the input size (torch.Size([64, 1, 1, 1])) is deprecated. Please ensure they have the same size.\n",
            "  return F.binary_cross_entropy(input, target, weight=self.weight, reduction=self.reduction)\n",
            "/usr/local/lib/python3.6/dist-packages/torch/nn/modules/loss.py:512: UserWarning: Using a target size (torch.Size([16])) that is different to the input size (torch.Size([16, 1, 1, 1])) is deprecated. Please ensure they have the same size.\n",
            "  return F.binary_cross_entropy(input, target, weight=self.weight, reduction=self.reduction)\n"
          ],
          "name": "stderr"
        }
      ]
    },
    {
      "cell_type": "code",
      "metadata": {
        "id": "J9Sr25L33mIt",
        "colab_type": "code",
        "outputId": "84fc60a7-c2a1-45ff-9baa-7223aac6fd64",
        "colab": {
          "base_uri": "https://localhost:8080/",
          "height": 557
        }
      },
      "source": [
        "import matplotlib.pyplot as plt\n",
        "\n",
        "plt.figure(figsize=(10,5))\n",
        "plt.title(\"Generator and Discriminator Loss During Training 𝔼𝑧log𝐷(𝐺(𝑧))\")\n",
        "plt.plot(g_losses_1,label=\"G\")\n",
        "plt.plot(d_losses_1,label=\"D\")\n",
        "plt.xlabel(\"iterations\")\n",
        "plt.ylabel(\"Loss\")\n",
        "plt.legend()\n",
        "plt.show()"
      ],
      "execution_count": 1,
      "outputs": [
        {
          "output_type": "error",
          "ename": "NameError",
          "evalue": "ignored",
          "traceback": [
            "\u001b[0;31m---------------------------------------------------------------------------\u001b[0m",
            "\u001b[0;31mNameError\u001b[0m                                 Traceback (most recent call last)",
            "\u001b[0;32m<ipython-input-1-618c7e386704>\u001b[0m in \u001b[0;36m<module>\u001b[0;34m()\u001b[0m\n\u001b[1;32m      3\u001b[0m \u001b[0mplt\u001b[0m\u001b[0;34m.\u001b[0m\u001b[0mfigure\u001b[0m\u001b[0;34m(\u001b[0m\u001b[0mfigsize\u001b[0m\u001b[0;34m=\u001b[0m\u001b[0;34m(\u001b[0m\u001b[0;36m10\u001b[0m\u001b[0;34m,\u001b[0m\u001b[0;36m5\u001b[0m\u001b[0;34m)\u001b[0m\u001b[0;34m)\u001b[0m\u001b[0;34m\u001b[0m\u001b[0;34m\u001b[0m\u001b[0m\n\u001b[1;32m      4\u001b[0m \u001b[0mplt\u001b[0m\u001b[0;34m.\u001b[0m\u001b[0mtitle\u001b[0m\u001b[0;34m(\u001b[0m\u001b[0;34m\"Generator and Discriminator Loss During Training 𝔼𝑧log𝐷(𝐺(𝑧))\"\u001b[0m\u001b[0;34m)\u001b[0m\u001b[0;34m\u001b[0m\u001b[0;34m\u001b[0m\u001b[0m\n\u001b[0;32m----> 5\u001b[0;31m \u001b[0mplt\u001b[0m\u001b[0;34m.\u001b[0m\u001b[0mplot\u001b[0m\u001b[0;34m(\u001b[0m\u001b[0mg_losses_1\u001b[0m\u001b[0;34m,\u001b[0m\u001b[0mlabel\u001b[0m\u001b[0;34m=\u001b[0m\u001b[0;34m\"G\"\u001b[0m\u001b[0;34m)\u001b[0m\u001b[0;34m\u001b[0m\u001b[0;34m\u001b[0m\u001b[0m\n\u001b[0m\u001b[1;32m      6\u001b[0m \u001b[0mplt\u001b[0m\u001b[0;34m.\u001b[0m\u001b[0mplot\u001b[0m\u001b[0;34m(\u001b[0m\u001b[0md_losses_1\u001b[0m\u001b[0;34m,\u001b[0m\u001b[0mlabel\u001b[0m\u001b[0;34m=\u001b[0m\u001b[0;34m\"D\"\u001b[0m\u001b[0;34m)\u001b[0m\u001b[0;34m\u001b[0m\u001b[0;34m\u001b[0m\u001b[0m\n\u001b[1;32m      7\u001b[0m \u001b[0mplt\u001b[0m\u001b[0;34m.\u001b[0m\u001b[0mxlabel\u001b[0m\u001b[0;34m(\u001b[0m\u001b[0;34m\"iterations\"\u001b[0m\u001b[0;34m)\u001b[0m\u001b[0;34m\u001b[0m\u001b[0;34m\u001b[0m\u001b[0m\n",
            "\u001b[0;31mNameError\u001b[0m: name 'g_losses_1' is not defined"
          ]
        },
        {
          "output_type": "display_data",
          "data": {
            "image/png": "[encoded data removed]",
            "text/plain": [
              "<Figure size 720x360 with 1 Axes>"
            ]
          },
          "metadata": {
            "tags": []
          }
        }
      ]
    },
    {
      "cell_type": "code",
      "metadata": {
        "id": "rYgxBNCjAEwQ",
        "colab_type": "code",
        "outputId": "99a1d10a-3580-4d24-cd8c-82d26d4144a2",
        "colab": {
          "base_uri": "https://localhost:8080/",
          "height": 107
        }
      },
      "source": [
        "d_losses_0, g_losses_0 = train(fake_label)"
      ],
      "execution_count": 0,
      "outputs": [
        {
          "output_type": "stream",
          "text": [
            "/usr/local/lib/python3.6/dist-packages/torch/nn/modules/loss.py:512: UserWarning: Using a target size (torch.Size([64])) that is different to the input size (torch.Size([64, 1, 1, 1])) is deprecated. Please ensure they have the same size.\n",
            "  return F.binary_cross_entropy(input, target, weight=self.weight, reduction=self.reduction)\n",
            "/usr/local/lib/python3.6/dist-packages/torch/nn/modules/loss.py:512: UserWarning: Using a target size (torch.Size([16])) that is different to the input size (torch.Size([16, 1, 1, 1])) is deprecated. Please ensure they have the same size.\n",
            "  return F.binary_cross_entropy(input, target, weight=self.weight, reduction=self.reduction)\n"
          ],
          "name": "stderr"
        }
      ]
    },
    {
      "cell_type": "code",
      "metadata": {
        "id": "B5PE2gs0AwmR",
        "colab_type": "code",
        "outputId": "5c0057cc-a947-48d4-8531-39a9ca08f7e1",
        "colab": {
          "base_uri": "https://localhost:8080/",
          "height": 350
        }
      },
      "source": [
        "import matplotlib.pyplot as plt\n",
        "\n",
        "plt.figure(figsize=(10,5))\n",
        "plt.title(\"Generator and Discriminator Loss During Training -   𝔼𝑧log(1−𝐷(𝐺(𝑧)) \")\n",
        "plt.plot(g_losses_0,label=\"G\")\n",
        "plt.plot(d_losses_0,label=\"D\")\n",
        "plt.xlabel(\"iterations\")\n",
        "plt.ylabel(\"Loss\")\n",
        "plt.legend()\n",
        "plt.show()"
      ],
      "execution_count": 0,
      "outputs": [
        {
          "output_type": "display_data",
          "data": {
            "image/png": "[encoded data removed]",
            "text/plain": [
              "<Figure size 720x360 with 1 Axes>"
            ]
          },
          "metadata": {
            "tags": []
          }
        }
      ]
    },
    {
      "cell_type": "code",
      "metadata": {
        "id": "C8V14hCZIOfq",
        "colab_type": "code",
        "outputId": "4b5f1226-a9ff-4a6b-9e4d-a24e72d72e09",
        "colab": {
          "base_uri": "https://localhost:8080/",
          "height": 72
        }
      },
      "source": [
        "d1, r1 = train(real_label, plt_generated = True, n_epochs=15)"
      ],
      "execution_count": 0,
      "outputs": [
        {
          "output_type": "stream",
          "text": [
            "/usr/local/lib/python3.6/dist-packages/torch/nn/modules/loss.py:512: UserWarning: Using a target size (torch.Size([64])) that is different to the input size (torch.Size([64, 1, 1, 1])) is deprecated. Please ensure they have the same size.\n",
            "  return F.binary_cross_entropy(input, target, weight=self.weight, reduction=self.reduction)\n"
          ],
          "name": "stderr"
        }
      ]
    },
    {
      "cell_type": "code",
      "metadata": {
        "id": "ND3qOaD6Pv6g",
        "colab_type": "code",
        "outputId": "3e7db36d-1683-46e3-dc51-c35e276fb17c",
        "colab": {
          "base_uri": "https://localhost:8080/",
          "height": 34
        }
      },
      "source": [
        "d1 == r1"
      ],
      "execution_count": 0,
      "outputs": [
        {
          "output_type": "execute_result",
          "data": {
            "text/plain": [
              "False"
            ]
          },
          "metadata": {
            "tags": []
          },
          "execution_count": 67
        }
      ]
    },
    {
      "cell_type": "code",
      "metadata": {
        "id": "ommD4phMP4Mp",
        "colab_type": "code",
        "outputId": "e689a418-e50d-4827-f267-7db80d036ba0",
        "colab": {
          "base_uri": "https://localhost:8080/",
          "height": 350
        }
      },
      "source": [
        "import matplotlib.pyplot as plt\n",
        "\n",
        "plt.figure(figsize=(10,5))\n",
        "plt.title(\"Generator and Discriminator Loss During Training -   𝔼𝑧log(1−𝐷(𝐺(𝑧)) \")\n",
        "plt.plot(r1,label=\"G\")\n",
        "plt.plot(d1,label=\"D\")\n",
        "plt.xlabel(\"iterations\")\n",
        "plt.ylabel(\"Loss\")\n",
        "plt.legend()\n",
        "plt.show()"
      ],
      "execution_count": 0,
      "outputs": [
        {
          "output_type": "display_data",
          "data": {
            "image/png": "[encoded data removed]",
            "text/plain": [
              "<Figure size 720x360 with 1 Axes>"
            ]
          },
          "metadata": {
            "tags": []
          }
        }
      ]
    }
  ]
}