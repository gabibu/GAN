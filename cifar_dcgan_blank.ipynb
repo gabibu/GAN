{
  "nbformat": 4,
  "nbformat_minor": 0,
  "metadata": {
    "colab": {
      "name": "cifar_dcgan_blank.ipynb",
      "version": "0.3.2",
      "provenance": []
    },
    "language_info": {
      "codemirror_mode": {
        "name": "ipython",
        "version": 3
      },
      "file_extension": ".py",
      "mimetype": "text/x-python",
      "name": "python",
      "nbconvert_exporter": "python",
      "pygments_lexer": "ipython3",
      "version": "3.6.5"
    },
    "kernelspec": {
      "name": "python3",
      "display_name": "Python 3"
    },
    "accelerator": "GPU"
  },
  "cells": [
    {
      "cell_type": "markdown",
      "metadata": {
        "id": "S-iHk6_wOR0r",
        "colab_type": "text"
      },
      "source": [
        "# DCGAN on CIFAR-10\n",
        "\n",
        "In this assignment, you are to train a DCGAN on CIFAR-10. Below you may find the data loader and the generator and discriminator networks. The assignment consists of the following tasks:\n",
        "\n",
        "**1)**  Compare the two ways to update generator discussed in the original [paper](https://arxiv.org/abs/1406.2661) (page 3, above the figure). The first is two minimise $\\mathbb E_z \\log (1 - D(G(z))$ and the second is to maximise $\\mathbb E_z \\log D(G(z))$.\n",
        "\n",
        "To do this fix a small number of training epochs (around 5) and plot the values of generator and discriminator losses for both cases. How do the two graphs compare? As a sanity check, plot the fake samples at the end of each epoch.\n",
        "\n",
        "**2)** Train a GAN with the second generator update and a more significant number of training epochs. To track the training progress plot fake samples at the end of each epoch. How do the resulting samples compare with the real data samples visually?\n",
        "\n",
        "**3)** To estimate the generalization properties of the generator qualitatively, plot interpolations between randomly generated samples. To do this, pick two random noise vectors, connect them with a line and decode the points on the line using the generator."
      ]
    },
    {
      "cell_type": "code",
      "metadata": {
        "id": "2Gam4AtwOR0t",
        "colab_type": "code",
        "colab": {
          "base_uri": "https://localhost:8080/",
          "height": 34
        },
        "outputId": "980bde6d-32e0-4f65-e9b4-3c34b2da6c9c"
      },
      "source": [
        "import os\n",
        "import random\n",
        "import torch\n",
        "import torch.nn as nn\n",
        "import torch.optim as optim\n",
        "import torchvision\n",
        "import matplotlib.pyplot as plt\n",
        "import torchvision.utils as vutils\n",
        "import numpy as np\n",
        "from torchvision import transforms\n",
        "import matplotlib.animation as animation\n",
        "from IPython.display import HTML\n",
        "\n",
        "manualSeed = 999\n",
        "random.seed(manualSeed)\n",
        "torch.manual_seed(manualSeed)\n",
        "\n"
      ],
      "execution_count": 10,
      "outputs": [
        {
          "output_type": "execute_result",
          "data": {
            "text/plain": [
              "<torch._C.Generator at 0x7fbde16243d0>"
            ]
          },
          "metadata": {
            "tags": []
          },
          "execution_count": 10
        }
      ]
    },
    {
      "cell_type": "code",
      "metadata": {
        "id": "M1TpTZfBOR0z",
        "colab_type": "code",
        "outputId": "40502712-20d7-41c0-ac69-745b52fe3859",
        "colab": {
          "base_uri": "https://localhost:8080/",
          "height": 34
        }
      },
      "source": [
        "data_folder = './data'\n",
        "batch_size = 64\n",
        "image_size = 64\n",
        "device = torch.device('cuda') if torch.cuda.is_available() else torch.device('cpu')\n",
        "\n",
        "n_channels = 3\n",
        "n_feature_maps = 64\n",
        "z_dim = 128\n",
        "\n",
        "# for the data to be compatible with the DCGAN architecture we will resize it to 64*64\n",
        "dataset = torchvision.datasets.CIFAR10(\n",
        "    root=data_folder,\n",
        "    download=True,\n",
        "    transform=transforms.Compose([\n",
        "        transforms.Resize(image_size),\n",
        "        transforms.ToTensor(),\n",
        "        transforms.Normalize((0.5, 0.5, 0.5), (0.5, 0.5, 0.5)),\n",
        "    ]))\n",
        "\n",
        "dataloader = torch.utils.data.DataLoader(dataset, batch_size=batch_size,\n",
        "                                         shuffle=True, num_workers=1)"
      ],
      "execution_count": 11,
      "outputs": [
        {
          "output_type": "stream",
          "text": [
            "Files already downloaded and verified\n"
          ],
          "name": "stdout"
        }
      ]
    },
    {
      "cell_type": "code",
      "metadata": {
        "id": "e577jST7OR04",
        "colab_type": "code",
        "colab": {}
      },
      "source": [
        "def get_dcgan_generator(z_dim, n_feature_maps=64, n_channels=3):\n",
        "    layers = [\n",
        "        nn.ConvTranspose2d(z_dim, n_feature_maps * 8, 4, 1, 0, bias=False),\n",
        "        nn.BatchNorm2d(n_feature_maps * 8),\n",
        "        nn.ReLU(),\n",
        "        # n_features * 8 x 4 x 4\n",
        "        nn.ConvTranspose2d(n_feature_maps * 8, n_feature_maps * 4, 4, 2, 1, bias=False),\n",
        "        nn.BatchNorm2d(n_feature_maps * 4),\n",
        "        nn.ReLU(),\n",
        "        # n_features * 4 x 8 x 8\n",
        "        nn.ConvTranspose2d(n_feature_maps * 4, n_feature_maps * 2, 4, 2, 1, bias=False),\n",
        "        nn.BatchNorm2d(n_feature_maps * 2),\n",
        "        nn.ReLU(),\n",
        "        # n_features * 2 x 16 x 16\n",
        "        nn.ConvTranspose2d(n_feature_maps * 2, n_feature_maps, 4, 2, 1, bias=False),\n",
        "        nn.BatchNorm2d(n_feature_maps),\n",
        "        nn.ReLU(),\n",
        "        # n_features x 32 x 32\n",
        "        nn.ConvTranspose2d(n_feature_maps, n_channels, 4, 2, 1, bias=False),\n",
        "        nn.Tanh()]\n",
        "        # n_channels x 64 x 64\n",
        "    return nn.Sequential(*layers)\n",
        "    \n",
        "def get_dcgan_discriminator(n_feature_maps=64, n_channels=3):\n",
        "    layers = [\n",
        "        nn.Conv2d(n_channels, n_feature_maps, 4, 2, 1, bias=False),\n",
        "        nn.LeakyReLU(0.2),\n",
        "        # n_feature_maps x 32 x 32\n",
        "        nn.Conv2d(n_feature_maps, n_feature_maps * 2, 4, 2, 1, bias=False),\n",
        "        nn.BatchNorm2d(n_feature_maps * 2),\n",
        "        nn.LeakyReLU(0.2),\n",
        "        # n_feature_maps * 2 x 16 x 16\n",
        "        nn.Conv2d(n_feature_maps * 2, n_feature_maps * 4, 4, 2, 1, bias=False),\n",
        "        nn.BatchNorm2d(n_feature_maps * 4),\n",
        "        nn.LeakyReLU(0.2),\n",
        "        # n_feature_maps * 4 x 8 x 8\n",
        "        nn.Conv2d(n_feature_maps * 4, n_feature_maps * 8, 4, 2, 1, bias=False),\n",
        "        nn.BatchNorm2d(n_feature_maps * 8),\n",
        "        nn.LeakyReLU(0.2, inplace=True),\n",
        "        # n_feature_maps * 8 x 4 x 4\n",
        "        nn.Conv2d(n_feature_maps * 8, 1, 4, 1, 0, bias=False),\n",
        "        nn.Sigmoid()]\n",
        "    return nn.Sequential(*layers)\n",
        "\n",
        "def weights_init(m):\n",
        "    classname = m.__class__.__name__\n",
        "    if classname.find('Conv') != -1:\n",
        "        m.weight.data.normal_(0.0, 0.02)\n",
        "    elif classname.find('BatchNorm') != -1:\n",
        "        m.weight.data.normal_(1.0, 0.02)\n",
        "        m.bias.data.fill_(0)"
      ],
      "execution_count": 0,
      "outputs": []
    },
    {
      "cell_type": "code",
      "metadata": {
        "id": "FK7DyVAEOR07",
        "colab_type": "code",
        "outputId": "77db05be-d55a-4336-b353-e5a8fb535aa5",
        "colab": {
          "base_uri": "https://localhost:8080/",
          "height": 283
        }
      },
      "source": [
        "generator = get_dcgan_generator(z_dim).to(device)\n",
        "generator.apply(weights_init)\n",
        "discriminator = get_dcgan_discriminator().to(device)\n",
        "discriminator.apply(weights_init)"
      ],
      "execution_count": 13,
      "outputs": [
        {
          "output_type": "execute_result",
          "data": {
            "text/plain": [
              "Sequential(\n",
              "  (0): Conv2d(3, 64, kernel_size=(4, 4), stride=(2, 2), padding=(1, 1), bias=False)\n",
              "  (1): LeakyReLU(negative_slope=0.2)\n",
              "  (2): Conv2d(64, 128, kernel_size=(4, 4), stride=(2, 2), padding=(1, 1), bias=False)\n",
              "  (3): BatchNorm2d(128, eps=1e-05, momentum=0.1, affine=True, track_running_stats=True)\n",
              "  (4): LeakyReLU(negative_slope=0.2)\n",
              "  (5): Conv2d(128, 256, kernel_size=(4, 4), stride=(2, 2), padding=(1, 1), bias=False)\n",
              "  (6): BatchNorm2d(256, eps=1e-05, momentum=0.1, affine=True, track_running_stats=True)\n",
              "  (7): LeakyReLU(negative_slope=0.2)\n",
              "  (8): Conv2d(256, 512, kernel_size=(4, 4), stride=(2, 2), padding=(1, 1), bias=False)\n",
              "  (9): BatchNorm2d(512, eps=1e-05, momentum=0.1, affine=True, track_running_stats=True)\n",
              "  (10): LeakyReLU(negative_slope=0.2, inplace)\n",
              "  (11): Conv2d(512, 1, kernel_size=(4, 4), stride=(1, 1), bias=False)\n",
              "  (12): Sigmoid()\n",
              ")"
            ]
          },
          "metadata": {
            "tags": []
          },
          "execution_count": 13
        }
      ]
    },
    {
      "cell_type": "code",
      "metadata": {
        "id": "7aGKGOo9OR0-",
        "colab_type": "code",
        "colab": {}
      },
      "source": [
        "d_optimizer = optim.Adam(discriminator.parameters(), lr=0.0002,\n",
        "                         betas=(0.5, 0.999))\n",
        "g_optimizer = optim.Adam(generator.parameters(),\n",
        "                         lr=0.0002, betas=(0.5, 0.999))"
      ],
      "execution_count": 0,
      "outputs": []
    },
    {
      "cell_type": "code",
      "metadata": {
        "id": "VHukPUa854MN",
        "colab_type": "code",
        "colab": {}
      },
      "source": [
        "real_label = 1\n",
        "fake_label = 0"
      ],
      "execution_count": 0,
      "outputs": []
    },
    {
      "cell_type": "code",
      "metadata": {
        "id": "Y2SHqlEsOR1E",
        "colab_type": "code",
        "colab": {}
      },
      "source": [
        "n_epochs = 5\n",
        "for epoch in range(n_epochs):\n",
        "    for i, data in enumerate(dataloader, 0):\n",
        "        # update discriminator\n",
        "        discriminator.zero_grad()\n",
        "        real_data = data[0].to(device)\n",
        "        d_real_scores = discriminator(real_data)\n",
        "        \n",
        "        noise = torch.randn(batch_size, z_dim, 1, 1, device=device)\n",
        "        fake_samples = generator(noise)\n",
        "        d_fake_scores = discriminator(fake_samples)\n",
        "        # TODO\n",
        "        \n",
        "        # update generator\n",
        "        generator.zero_grad()\n",
        "        noise = torch.randn(batch_size, z_dim, 1, 1, device=device)\n",
        "        fake_samples = generator(noise)\n",
        "        d_fake_scores = discriminator(fake_samples)\n",
        "        # TODO"
      ],
      "execution_count": 0,
      "outputs": []
    },
    {
      "cell_type": "code",
      "metadata": {
        "id": "SiiszzSZ3QE7",
        "colab_type": "code",
        "colab": {}
      },
      "source": [
        "def train(generator_label, plt_generated = False, n_epochs=5):\n",
        "  lr = 0.0002\n",
        "  beta1 = 0.5\n",
        "  criterion = nn.BCELoss()\n",
        "  optimizerD = optim.Adam(generator.parameters(), lr=lr, betas=(beta1, 0.999))\n",
        "  optimizerG = optim.Adam(discriminator.parameters(), lr=lr, betas=(beta1, 0.999))\n",
        "  \n",
        "  G_losses = []\n",
        "  D_losses = []\n",
        "  \n",
        "  for epoch in range(n_epochs):\n",
        "      for i, data in enumerate(dataloader, 0):\n",
        "          # update discriminator\n",
        "          discriminator.zero_grad()\n",
        "          real_data = data[0].to(device)\n",
        "\n",
        "          #real\n",
        "          b_size = real_data.size(0)\n",
        "          label = torch.full((b_size,), real_label, device=device)\n",
        "          d_real_scores = discriminator(real_data)\n",
        "          errD_real = criterion(d_real_scores, label)\n",
        "          errD_real.backward()\n",
        "          #end real \n",
        "\n",
        "          #fake\n",
        "          noise = torch.randn(batch_size, z_dim, 1, 1, device=device)\n",
        "          label = torch.full((batch_size,), fake_label, device=device)\n",
        "          fake_samples = generator(noise)\n",
        "          d_fake_scores = discriminator(fake_samples.detach()).view(-1)\n",
        "          errD_fake = criterion(d_fake_scores, label)\n",
        "          errD_fake.backward()\n",
        "          errD = errD_real + errD_fake\n",
        "\n",
        "          #end fake\n",
        "          D_losses.append(errD.item())\n",
        "\n",
        "          optimizerD.step()\n",
        "\n",
        "\n",
        "\n",
        "\n",
        "\n",
        "          # TODO\n",
        "\n",
        "          # update generator\n",
        "          generator.zero_grad()\n",
        "          label = torch.full((batch_size,), generator_label, device=device)\n",
        "\n",
        "\n",
        "\n",
        "          noise = torch.randn(batch_size, z_dim, 1, 1, device=device)\n",
        "          fake_samples = generator(noise)\n",
        "          d_fake_scores = discriminator(fake_samples).view(-1)\n",
        "          errG = criterion(d_fake_scores, label)\n",
        "          errG.backward()\n",
        "          optimizerG.step()\n",
        "          G_losses.append(errG.item())\n",
        "\n",
        "          \n",
        "      if plt_generated:\n",
        "      \n",
        "        with torch.no_grad():\n",
        "          img_list= []\n",
        "          fake = generator(noise).detach().cpu()\n",
        "          img_list.append(vutils.make_grid(fake, padding=2, normalize=True))\n",
        "        \n",
        "          fig = plt.figure(figsize=(8,8))\n",
        "          plt.axis(\"off\")\n",
        "          ims = [[plt.imshow(np.transpose(i,(1,2,0)), animated=True)] for i in img_list]\n",
        "          ani = animation.ArtistAnimation(fig, ims, interval=1000, repeat_delay=1000, blit=True)\n",
        "\n",
        "          HTML(ani.to_jshtml())\n",
        "        \n",
        "          \n",
        "  return D_losses, G_losses\n",
        "\n",
        "          # TODO\n",
        "  \n",
        "  "
      ],
      "execution_count": 0,
      "outputs": []
    },
    {
      "cell_type": "code",
      "metadata": {
        "id": "ckd6IiDQANYm",
        "colab_type": "code",
        "colab": {}
      },
      "source": [
        "# def train(generator_label, plt_generated = False, n_epochs=5):\n",
        "#   lr = 0.0002\n",
        "#   beta1 = 0.5\n",
        "#   criterion = nn.BCELoss()\n",
        "#   optimizerD = optim.Adam(generator.parameters(), lr=lr, betas=(beta1, 0.999))\n",
        "#   optimizerG = optim.Adam(discriminator.parameters(), lr=lr, betas=(beta1, 0.999))\n",
        "#   real_label = 1\n",
        "#   fake_label = 0\n",
        "#   G_losses = []\n",
        "#   D_losses = []\n",
        "  \n",
        "#   for epoch in range(n_epochs):\n",
        "#     #print(epoch)\n",
        "#     for i, data in enumerate(dataloader, 0):\n",
        "#         # update discriminator\n",
        "#         discriminator.zero_grad()\n",
        "#         real_data = data[0].to(device)\n",
        "#         d_real_scores = discriminator(real_data).view(-1)\n",
        "\n",
        "#         noise = torch.randn(batch_size, z_dim, 1, 1, device=device)\n",
        "#         fake_samples = generator(noise)\n",
        "#         d_fake_scores = discriminator(fake_samples.detach()).view(-1)\n",
        "#         # TODO\n",
        "#         label = torch.full((d_real_scores.shape[0],), real_label, device=device)\n",
        "#         errD_real = criterion(d_real_scores, label)\n",
        "#         errD_real.backward()\n",
        "\n",
        "#         #fake\n",
        "#         #label.fill_(0)\n",
        "#         label = torch.full((d_fake_scores.shape[0],), fake_label, device=device)\n",
        "\n",
        "#         errD_fake = criterion(d_fake_scores, label)\n",
        "#         errD_fake.backward()\n",
        "#         optimizerD.step()\n",
        "#         errD = errD_real + errD_fake\n",
        "#         D_losses.append(errD.item())\n",
        "#         #gabi de\n",
        "\n",
        "#         # update generator\n",
        "#         generator.zero_grad()\n",
        "#         noise = torch.randn(batch_size, z_dim, 1, 1, device=device)\n",
        "#         fake_samples = generator(noise)\n",
        "#         d_fake_scores = discriminator(fake_samples).view(-1)\n",
        "\n",
        "        \n",
        "#         label = torch.full((d_fake_scores.shape[0],), generator_label, device=device)\n",
        "#         #label.fill_(real_label)\n",
        "#         errG = criterion(d_fake_scores, label)\n",
        "#         errG.backward()\n",
        "#         optimizerG.step()\n",
        "#         G_losses.append(errG.item())\n",
        "#         # TODO\n",
        "\n",
        "#         #gabi general\n",
        "        \n",
        "        \n",
        "#         #gabi general\n",
        "      \n",
        "#     if plt_generated:\n",
        "      \n",
        "#       with torch.no_grad():\n",
        "#         img_list= []\n",
        "#         fake = generator(noise).detach().cpu()\n",
        "#         img_list.append(vutils.make_grid(fake, padding=2, normalize=True))\n",
        "        \n",
        "#         fig = plt.figure(figsize=(8,8))\n",
        "#         plt.axis(\"off\")\n",
        "#         ims = [[plt.imshow(np.transpose(i,(1,2,0)), animated=True)] for i in img_list]\n",
        "#         ani = animation.ArtistAnimation(fig, ims, interval=1000, repeat_delay=1000, blit=True)\n",
        "\n",
        "#         HTML(ani.to_jshtml())\n",
        "        \n",
        "      \n",
        "#       #plt.figure(figsize=(8, 8))\n",
        "#       #plt.axis(\"off\")\n",
        "#       #plt.title(\"Training Images\")\n",
        "#       #plt.imshow(np.transpose(vutils.make_grid(fake_samples.detach()[:64], padding=2, normalize=True).cpu(), (1, 2, 0)))\n",
        "\n",
        "\n",
        "#         #\n",
        "\n",
        "#   return   D_losses, G_losses\n",
        "  \n",
        "  \n",
        "  "
      ],
      "execution_count": 0,
      "outputs": []
    },
    {
      "cell_type": "code",
      "metadata": {
        "id": "kcGV4bHk3YUL",
        "colab_type": "code",
        "outputId": "23adb166-d36c-4dda-dc60-48b14d52134c",
        "colab": {
          "base_uri": "https://localhost:8080/",
          "height": 196
        }
      },
      "source": [
        ""
      ],
      "execution_count": 0,
      "outputs": [
        {
          "output_type": "stream",
          "text": [
            "0\n"
          ],
          "name": "stdout"
        },
        {
          "output_type": "stream",
          "text": [
            "/usr/local/lib/python3.6/dist-packages/torch/nn/modules/loss.py:512: UserWarning: Using a target size (torch.Size([64])) that is different to the input size (torch.Size([64, 1, 1, 1])) is deprecated. Please ensure they have the same size.\n",
            "  return F.binary_cross_entropy(input, target, weight=self.weight, reduction=self.reduction)\n"
          ],
          "name": "stderr"
        },
        {
          "output_type": "stream",
          "text": [
            "1\n"
          ],
          "name": "stdout"
        },
        {
          "output_type": "stream",
          "text": [
            "/usr/local/lib/python3.6/dist-packages/torch/nn/modules/loss.py:512: UserWarning: Using a target size (torch.Size([16])) that is different to the input size (torch.Size([16, 1, 1, 1])) is deprecated. Please ensure they have the same size.\n",
            "  return F.binary_cross_entropy(input, target, weight=self.weight, reduction=self.reduction)\n"
          ],
          "name": "stderr"
        },
        {
          "output_type": "stream",
          "text": [
            "2\n",
            "3\n",
            "4\n"
          ],
          "name": "stdout"
        }
      ]
    },
    {
      "cell_type": "code",
      "metadata": {
        "id": "PvQYxDAFCwf_",
        "colab_type": "code",
        "colab": {
          "base_uri": "https://localhost:8080/",
          "height": 107
        },
        "outputId": "488ab44c-0788-4710-fb74-246bad9d903d"
      },
      "source": [
        "d_losses_1, g_losses_1 = train(real_label)"
      ],
      "execution_count": 21,
      "outputs": [
        {
          "output_type": "stream",
          "text": [
            "/usr/local/lib/python3.6/dist-packages/torch/nn/modules/loss.py:512: UserWarning: Using a target size (torch.Size([64])) that is different to the input size (torch.Size([64, 1, 1, 1])) is deprecated. Please ensure they have the same size.\n",
            "  return F.binary_cross_entropy(input, target, weight=self.weight, reduction=self.reduction)\n",
            "/usr/local/lib/python3.6/dist-packages/torch/nn/modules/loss.py:512: UserWarning: Using a target size (torch.Size([16])) that is different to the input size (torch.Size([16, 1, 1, 1])) is deprecated. Please ensure they have the same size.\n",
            "  return F.binary_cross_entropy(input, target, weight=self.weight, reduction=self.reduction)\n"
          ],
          "name": "stderr"
        }
      ]
    },
    {
      "cell_type": "code",
      "metadata": {
        "id": "J9Sr25L33mIt",
        "colab_type": "code",
        "outputId": "6f8cd8a6-6ecb-45f6-dc5b-221ede62de2a",
        "colab": {
          "base_uri": "https://localhost:8080/",
          "height": 350
        }
      },
      "source": [
        "import matplotlib.pyplot as plt\n",
        "\n",
        "plt.figure(figsize=(10,5))\n",
        "plt.title(\"Generator and Discriminator Loss During Training 𝔼𝑧log𝐷(𝐺(𝑧))\")\n",
        "plt.plot(g_losses_1,label=\"G\")\n",
        "plt.plot(d_losses_1,label=\"D\")\n",
        "plt.xlabel(\"iterations\")\n",
        "plt.ylabel(\"Loss\")\n",
        "plt.legend()\n",
        "plt.show()"
      ],
      "execution_count": 22,
      "outputs": [
        {
          "output_type": "display_data",
          "data": {
            "image/png": "[encoded data removed]",
            "text/plain": [
              "<Figure size 720x360 with 1 Axes>"
            ]
          },
          "metadata": {
            "tags": []
          }
        }
      ]
    },
    {
      "cell_type": "code",
      "metadata": {
        "id": "rYgxBNCjAEwQ",
        "colab_type": "code",
        "outputId": "99a1d10a-3580-4d24-cd8c-82d26d4144a2",
        "colab": {
          "base_uri": "https://localhost:8080/",
          "height": 107
        }
      },
      "source": [
        "d_losses_0, g_losses_0 = train(fake_label)"
      ],
      "execution_count": 28,
      "outputs": [
        {
          "output_type": "stream",
          "text": [
            "/usr/local/lib/python3.6/dist-packages/torch/nn/modules/loss.py:512: UserWarning: Using a target size (torch.Size([64])) that is different to the input size (torch.Size([64, 1, 1, 1])) is deprecated. Please ensure they have the same size.\n",
            "  return F.binary_cross_entropy(input, target, weight=self.weight, reduction=self.reduction)\n",
            "/usr/local/lib/python3.6/dist-packages/torch/nn/modules/loss.py:512: UserWarning: Using a target size (torch.Size([16])) that is different to the input size (torch.Size([16, 1, 1, 1])) is deprecated. Please ensure they have the same size.\n",
            "  return F.binary_cross_entropy(input, target, weight=self.weight, reduction=self.reduction)\n"
          ],
          "name": "stderr"
        }
      ]
    },
    {
      "cell_type": "code",
      "metadata": {
        "id": "B5PE2gs0AwmR",
        "colab_type": "code",
        "outputId": "5c0057cc-a947-48d4-8531-39a9ca08f7e1",
        "colab": {
          "base_uri": "https://localhost:8080/",
          "height": 350
        }
      },
      "source": [
        "import matplotlib.pyplot as plt\n",
        "\n",
        "plt.figure(figsize=(10,5))\n",
        "plt.title(\"Generator and Discriminator Loss During Training -   𝔼𝑧log(1−𝐷(𝐺(𝑧)) \")\n",
        "plt.plot(g_losses_0,label=\"G\")\n",
        "plt.plot(d_losses_0,label=\"D\")\n",
        "plt.xlabel(\"iterations\")\n",
        "plt.ylabel(\"Loss\")\n",
        "plt.legend()\n",
        "plt.show()"
      ],
      "execution_count": 29,
      "outputs": [
        {
          "output_type": "display_data",
          "data": {
            "image/png": "[encoded data removed]",
            "text/plain": [
              "<Figure size 720x360 with 1 Axes>"
            ]
          },
          "metadata": {
            "tags": []
          }
        }
      ]
    },
    {
      "cell_type": "code",
      "metadata": {
        "id": "C8V14hCZIOfq",
        "colab_type": "code",
        "outputId": "7f499e74-f157-48f0-e764-cd33f7d1b14c",
        "colab": {
          "base_uri": "https://localhost:8080/",
          "height": 72
        }
      },
      "source": [
        "d1, r1 = train(real_label, plt_generated = True, n_epochs=5)"
      ],
      "execution_count": 0,
      "outputs": [
        {
          "output_type": "stream",
          "text": [
            "/usr/local/lib/python3.6/dist-packages/torch/nn/modules/loss.py:512: UserWarning: Using a target size (torch.Size([64])) that is different to the input size (torch.Size([64, 1, 1, 1])) is deprecated. Please ensure they have the same size.\n",
            "  return F.binary_cross_entropy(input, target, weight=self.weight, reduction=self.reduction)\n"
          ],
          "name": "stderr"
        }
      ]
    },
    {
      "cell_type": "code",
      "metadata": {
        "id": "ND3qOaD6Pv6g",
        "colab_type": "code",
        "outputId": "3e7db36d-1683-46e3-dc51-c35e276fb17c",
        "colab": {
          "base_uri": "https://localhost:8080/",
          "height": 34
        }
      },
      "source": [
        "d1 == r1"
      ],
      "execution_count": 0,
      "outputs": [
        {
          "output_type": "execute_result",
          "data": {
            "text/plain": [
              "False"
            ]
          },
          "metadata": {
            "tags": []
          },
          "execution_count": 67
        }
      ]
    },
    {
      "cell_type": "code",
      "metadata": {
        "id": "ommD4phMP4Mp",
        "colab_type": "code",
        "outputId": "e689a418-e50d-4827-f267-7db80d036ba0",
        "colab": {
          "base_uri": "https://localhost:8080/",
          "height": 350
        }
      },
      "source": [
        "import matplotlib.pyplot as plt\n",
        "\n",
        "plt.figure(figsize=(10,5))\n",
        "plt.title(\"Generator and Discriminator Loss During Training -   𝔼𝑧log(1−𝐷(𝐺(𝑧)) \")\n",
        "plt.plot(r1,label=\"G\")\n",
        "plt.plot(d1,label=\"D\")\n",
        "plt.xlabel(\"iterations\")\n",
        "plt.ylabel(\"Loss\")\n",
        "plt.legend()\n",
        "plt.show()"
      ],
      "execution_count": 0,
      "outputs": [
        {
          "output_type": "display_data",
          "data": {
            "image/png": "[encoded data removed]",
            "text/plain": [
              "<Figure size 720x360 with 1 Axes>"
            ]
          },
          "metadata": {
            "tags": []
          }
        }
      ]
    }
  ]
}